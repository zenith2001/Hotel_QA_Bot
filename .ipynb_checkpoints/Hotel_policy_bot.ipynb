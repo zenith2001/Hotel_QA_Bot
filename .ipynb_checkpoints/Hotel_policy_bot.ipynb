{
 "cells": [
  {
   "cell_type": "code",
   "execution_count": 1,
   "id": "77f712a8-1a7f-417c-8150-773d41ac05ce",
   "metadata": {},
   "outputs": [],
   "source": [
    "import os\n",
    "import re\n",
    "from langchain.document_loaders import PyPDFLoader\n",
    "from langchain.schema import Document \n",
    "from langchain.text_splitter import RecursiveCharacterTextSplitter\n",
    "from langchain.embeddings import HuggingFaceEmbeddings\n",
    "from langchain_community.vectorstores import Chroma\n",
    "from langchain_community.llms import LlamaCpp\n",
    "import string\n",
    "from bs4 import BeautifulSoup\n"
   ]
  },
  {
   "cell_type": "code",
   "execution_count": 9,
   "id": "2258d292-2006-4edd-82a0-47cba697c46f",
   "metadata": {},
   "outputs": [],
   "source": [
    "pdf_directory = r\"C:\\Users\\jenit\\OneDrive\\Desktop\\Hotel_Q&A_bot\\data\\\\\""
   ]
  },
  {
   "cell_type": "code",
   "execution_count": 3,
   "id": "a7ec8d14-991b-4259-a1e2-69847003e794",
   "metadata": {},
   "outputs": [],
   "source": [
    "def clean_text(text):\n",
    "    # Convert text to lowercase\n",
    "    text = text.lower()\n",
    "    \n",
    "    # Remove bullets (including `●`, `•`, `-`, `*`) at the beginning of lines\n",
    "    text = re.sub(r'^[●•*-]\\s*', '', text, flags=re.MULTILINE)\n",
    "    \n",
    "    # Remove any remaining standalone bullets\n",
    "    text = re.sub(r'●|•|-|\\*', '', text)\n",
    "    \n",
    "    # Remove excess spaces\n",
    "    text = re.sub(r'\\s+', ' ', text).strip()\n",
    "\n",
    "    return text\n"
   ]
  },
  {
   "cell_type": "code",
   "execution_count": 10,
   "id": "776e7b66-c7d7-4e10-87f1-29f4e2f9443c",
   "metadata": {},
   "outputs": [
    {
     "name": "stderr",
     "output_type": "stream",
     "text": [
      "incorrect startxref pointer(1)\n",
      "parsing for Object Streams\n",
      "found 0 objects within Object(27,0) whereas 76 expected\n"
     ]
    },
    {
     "name": "stdout",
     "output_type": "stream",
     "text": [
      "Total documents loaded: 5\n"
     ]
    }
   ],
   "source": [
    "documents = []\n",
    "for file in os.listdir(pdf_directory):\n",
    "    if file.endswith(\".pdf\"):\n",
    "        hotel_name = os.path.splitext(file)[0]  # Extract hotel name from filename\n",
    "        loader = PyPDFLoader(os.path.join(pdf_directory, file))\n",
    "        docs = loader.load()\n",
    "        \n",
    "        # Merge all pages into a single text block\n",
    "        full_text = \" \".join([clean_text(doc.page_content) for doc in docs])\n",
    "\n",
    "        # Create a single document for the entire PDF\n",
    "        cleaned_doc = Document(\n",
    "            page_content=full_text, \n",
    "            metadata={\"hotel\": hotel_name}\n",
    "        )\n",
    "        documents.append(cleaned_doc)\n",
    "\n",
    "print(f\"Total documents loaded: {len(documents)}\")\n",
    "# print(f\"Sample document metadata: {documents[3].metadata}\")\n"
   ]
  },
  {
   "cell_type": "code",
   "execution_count": 12,
   "id": "42a17728-5935-4bb0-a619-cf7409504fb2",
   "metadata": {},
   "outputs": [
    {
     "name": "stdout",
     "output_type": "stream",
     "text": [
      "Total chunks created: 108\n",
      "Sample chunk metadata: {'hotel': 'keys_prima_rules'}\n",
      "Sample chunk text: to win various prizes. we may combine personal information from promotions and contests with nonpersonal information collected through cookies and other means (described below). automatic collection when you use the site our servers may automatically collect nonpersonal information as you browse our\n"
     ]
    }
   ],
   "source": [
    "\n",
    "text_splitter = RecursiveCharacterTextSplitter(\n",
    "    chunk_size=1000,  # Adjust as needed\n",
    "    chunk_overlap=200,  # Keeps some context between chunks\n",
    "    separators=[\"\\n\\n\", \"\\n\", \" \", \".\"],\n",
    ")\n",
    "\n",
    "chunks = text_splitter.split_documents(documents)\n",
    "\n",
    "# Check if metadata is preserved\n",
    "print(f\"Total chunks created: {len(chunks)}\")\n",
    "print(f\"Sample chunk metadata: {chunks[50].metadata}\")\n",
    "print(f\"Sample chunk text: {chunks[2].page_content[:300]}\")  # Print first 300 characters\n"
   ]
  },
  {
   "cell_type": "code",
   "execution_count": 20,
   "id": "f8626059-eaba-4624-815e-8b4971ed6b95",
   "metadata": {},
   "outputs": [
    {
     "name": "stdout",
     "output_type": "stream",
     "text": [
      "Sample chunk text: before arrival no retention charge (full refund). if cancelled 15 days before arrival 50% retention charge from the full amount. if cancelled between 07 days of arrival 100% retention charge from the full amount. retention charges will be levied for all days of confirmed booking in case of no show peak period: no refund for cancellation in peak period bookings. contact eitticity road anachal, munnar685565 kerala, india tel.: +91 8547 802 563 info@cloudcastlemunnar.com\n"
     ]
    }
   ],
   "source": [
    "print(f\"Sample chunk text: {chunks[11].page_content}\")  # Print first 300 characters\n"
   ]
  },
  {
   "cell_type": "code",
   "execution_count": 21,
   "id": "a2b2e37c-ccb9-47ed-bf56-bc6e684150ab",
   "metadata": {},
   "outputs": [],
   "source": [
    "# Use a high-quality embedding model\n",
    "embedding_model = HuggingFaceEmbeddings(model_name=\"sentence-transformers/all-mpnet-base-v2\")"
   ]
  },
  {
   "cell_type": "code",
   "execution_count": 22,
   "id": "dbdf0799-27b6-4cd3-bf1e-3fafd9052807",
   "metadata": {},
   "outputs": [
    {
     "name": "stdout",
     "output_type": "stream",
     "text": [
      "✅ ChromaDB storage deleted successfully!\n"
     ]
    }
   ],
   "source": [
    "import shutil\n",
    "\n",
    "# Path to the ChromaDB storage directory\n",
    "chroma_db_path = \"./chroma_db\"\n",
    "\n",
    "# Delete the existing ChromaDB storage to ensure fresh data\n",
    "shutil.rmtree(chroma_db_path, ignore_errors=True)\n",
    "\n",
    "print(\"✅ ChromaDB storage deleted successfully!\")\n"
   ]
  },
  {
   "cell_type": "code",
   "execution_count": 23,
   "id": "8db5dc45-ad23-4848-8cb0-43cb5028349c",
   "metadata": {},
   "outputs": [
    {
     "name": "stdout",
     "output_type": "stream",
     "text": [
      "✅ Fresh ChromaDB created with new embeddings!\n"
     ]
    }
   ],
   "source": [
    "# Recreate the vector database with clean data\n",
    "vector_db = Chroma.from_documents(\n",
    "    documents=chunks,  # Your cleaned chunks\n",
    "    embedding=embedding_model,\n",
    "    persist_directory=chroma_db_path  # Ensure it's a fresh directory\n",
    ")\n",
    "\n",
    "vector_db.persist()\n",
    "print(\"✅ Fresh ChromaDB created with new embeddings!\")\n"
   ]
  },
  {
   "cell_type": "code",
   "execution_count": 24,
   "id": "2c7fe2bf-d6f4-41cf-bb93-3b9d81cb47a9",
   "metadata": {},
   "outputs": [],
   "source": [
    "def retrieve_answer(user_query, hotel_name):\n",
    "    results = vector_db.similarity_search(\n",
    "        query=user_query,\n",
    "        k=5,  # Retrieve more candidates\n",
    "        filter={\"hotel\": hotel_name}\n",
    "    )\n",
    "\n",
    "    if not results:\n",
    "        return [\"No relevant information found.\"]\n",
    "    \n",
    "    return [doc.page_content for doc in results]\n",
    "\n"
   ]
  },
  {
   "cell_type": "code",
   "execution_count": 43,
   "id": "d799973e-2e92-4dcb-a78f-12f9662d7c80",
   "metadata": {},
   "outputs": [],
   "source": [
    "\n",
    "# Load the local Mistral-7B-Instruct model\n",
    "model_path = \"C:/Users/jenit/OneDrive/Desktop/Hotel_Q&A_bot/models/mistral-7b-instruct-v0.2.Q4_K_M.gguf\"\n",
    "\n",
    "llm = LlamaCpp(\n",
    "    model_path=model_path,  \n",
    "    temperature=0.1,  # Lower temperature to reduce randomness\n",
    "    max_tokens=200,  # Reduce max token length to limit verbosity\n",
    "    n_ctx=4096,  \n",
    "    top_p=0.7,  # Restrict probability space to prevent excessive details\n",
    "    verbose=False  \n",
    ")\n",
    "\n",
    "\n",
    "def generate_answer(user_query, hotel_name):\n",
    "    # Retrieve relevant documents based on the selected hotel\n",
    "    retrieved_docs = retrieve_answer(user_query, hotel_name)\n",
    "    unique_chunks = list(set(retrieved_docs))\n",
    "\n",
    "    if not unique_chunks:\n",
    "        return \"Sorry, no relevant information was found for this hotel.\"\n",
    "\n",
    "    # Log retrieved chunks for debugging\n",
    "    print(\"\\n🔹 **Retrieved Chunks for Context:**\")\n",
    "    for idx, doc in enumerate(unique_chunks, 1):\n",
    "        print(f\"Chunk {idx}: {doc}\\n{'-'*80}\")\n",
    "\n",
    "    # Combine retrieved docs into a single formatted context\n",
    "    context = \"\\n\\n\".join(f\"- {doc.strip()}\" for doc in unique_chunks)\n",
    "\n",
    "    # Few-shot examples to improve LLM accuracy\n",
    "    few_shot_examples = \"\"\"\n",
    "    **Example 1:**  \n",
    "    **Q:** What is the cancellation policy if I cancel 20 days before arrival?  \n",
    "    **A:** If you cancel 20 days before arrival, a 50% retention charge from the full amount will apply.\n",
    "\n",
    "    **Example 2:**  \n",
    "    **Q:** What happens if I cancel my booking just 5 days before arrival?  \n",
    "    **A:** If you cancel within 7 days of arrival, a 100% retention charge from the full amount will apply.\n",
    "\n",
    "    **Example 3:**  \n",
    "    **Q:** Will I get a refund if I cancel my booking during peak season?  \n",
    "    **A:** No, there is no refund for cancellations during peak period bookings.\n",
    "\n",
    "    **Example 4:**  \n",
    "    **Q:** What documents are required for check-in?  \n",
    "    **A:** It is mandatory to produce a valid government-issued photo ID or a passport with a visa page at the time of check-in.\n",
    "\n",
    "    **Example 5:**  \n",
    "    **Q:** What happens if someone misbehaves in the hotel premises?  \n",
    "    **A:** The hotel reserves the right to ask any person who is not properly attired or misbehaves to leave the hotel premises immediately.\n",
    "    \"\"\"\n",
    "\n",
    "    # Create the prompt for the LLM\n",
    "    prompt = f\"\"\"\n",
    "    You are a professional customer support assistant answering questions about hotel policies.  \n",
    "    **Your response must be strictly factual, concise, and relevant to the user's question.**  \n",
    "\n",
    "    **Rules for Answering:**  \n",
    "    - **Do not add extra details** beyond what is in the policy.  \n",
    "    - **Do not include promotional content** or greetings.  \n",
    "    - **Do not speculate.** If the information is unavailable, say so.  \n",
    "\n",
    "    **Hotel Name:** {hotel_name}  \n",
    "\n",
    "    Below are correct and incorrect response examples:  \n",
    "    {few_shot_examples}\n",
    "\n",
    "    **Retrieved Hotel Policy Information:**  \n",
    "    ------------------  \n",
    "    {context}  \n",
    "    ------------------  \n",
    "\n",
    "    **Now, answer the following question based only on the provided policy:**  \n",
    "    **Customer's Question:** \"{user_query}\"  \n",
    "    **Your Response:**  \n",
    "    \"\"\"\n",
    "\n",
    "    # Get LLM-generated response\n",
    "    response = llm.invoke(prompt)\n",
    "\n",
    "    return response\n"
   ]
  },
  {
   "cell_type": "code",
   "execution_count": 46,
   "id": "212f7085-bdcc-4707-a9cb-806b79c724fa",
   "metadata": {},
   "outputs": [
    {
     "name": "stdout",
     "output_type": "stream",
     "text": [
      "\n",
      "🔹 **Retrieved Chunks for Context:**\n",
      "Chunk 1: number: infinity members have a dedicated hotline which is designed to offer personalized assistance and resolve any issues or inquiries more efficiently for members of the program. hotlines are available around the clock, ensuring that members can get help at any time, no matter where they are. 13. late checkout – this benefit is subject to availability and is on request. member will have pre inform the hotel about the late checkout request.  silver – not applicable  gold – 2:00 pm  platinum – 4:00 pm  platinum plus 6:00 pm 14. early check in this benefit is subject to availability and is on request. member will have pre inform the hotel about the early checkin request  silver – not applicable  gold – not applicable  platinum not applicable  platinum plus – 12:00 pm 15. discount on f&b – the in–house members (members staying at participating hotels) are eligible for below belowmentioned f&b discount. the walkin members (not staying with any of the lemon tree hotels and have\n",
      "--------------------------------------------------------------------------------\n",
      "Chunk 2: refers to the rewards program offered by lemon tree hotels. 2. “adjustment” refers to points credited following a claim by the member or an error on the part of the program. 3. awards” refers to any and all awards earned by members in connection with the loyalty program, including without limitation award redemptions. 4. “active member” member will be considered active if he has made a booking (earning or redemption), at “participating hotels of lemon tree” in the past rolling 12 months. 5. “checkin” refers to the date of arrival at the hotel. 6. “checkout” refers to the date of departure from the hotel. 7. “day use” refers to the use of a hotel room during the day, with checkin and checkout taking place on the same day. 8. “customer” means an individual (not a member of the program) using a lemon tree hotel room for an overnight stay or dayuse purposes. 9. \"member\" means a customer who has signed up for the membership and has accepted the program’s terms and conditions. 10. \"infinity\n",
      "--------------------------------------------------------------------------------\n",
      "Chunk 3: 2. earlycheckin / late checkout 3. 48 hrs room guarantee 4. all day happyhours– in applicablehotels 5. discounton spa– in applicablehotels additional conditions of program 1. only individualsmay becomemembersof lemontree infinityrewards. employeesof the lemon tree hotels,its affiliatesor subsidiaries,and the employeesof owners of managed hotels (collectively 'employees')are not eligibleto participatein the lemon tree infinityrewardsrewardsprogram. 2. rooms occupied as office space, will not be eligible for infinity coins. 3. businesscenterservicesused for businessmeetings by guestswill not be eligible for infinitycoins. 4. memberscannot maintainmembership,or earn infinitycoinson multipleaccounts. 5. deliveryof merchandisewhen redeeming infinitycoinswill be madeonly to addresseswithin india. 6. lemon tree hotels ltd reserves the right to add, modify, delete or otherwise change any of the rules, conditions, privileges, benefits, reward, or reward levels pertaining to the program at its\n",
      "--------------------------------------------------------------------------------\n",
      "Generated Answer:\n",
      "1. The late check-out timing varies depending on the membership level:  \n",
      "        a. Silver – Not applicable  \n",
      "        b. Gold – 2:00 pm  \n",
      "        c. Platinum – 4:00 pm  \n",
      "        d. Platinum Plus – 6:00 pm  \n",
      "    2. Late check-out is subject to availability, so members are encouraged to request late check-out as early as possible to ensure availability.\n"
     ]
    }
   ],
   "source": [
    "\n",
    "# Example Query\n",
    "hotel = \"keys_prima_rules\"\n",
    "query = \"what are the late check-out timings?\"\n",
    "answer = generate_answer(query, hotel)\n",
    "\n",
    "print(f\"Generated Answer:\\n{answer}\")"
   ]
  },
  {
   "cell_type": "code",
   "execution_count": null,
   "id": "10180d49-e2f8-484f-b156-d80bd4a2faef",
   "metadata": {},
   "outputs": [],
   "source": []
  }
 ],
 "metadata": {
  "kernelspec": {
   "display_name": "Python 3 (ipykernel)",
   "language": "python",
   "name": "python3"
  },
  "language_info": {
   "codemirror_mode": {
    "name": "ipython",
    "version": 3
   },
   "file_extension": ".py",
   "mimetype": "text/x-python",
   "name": "python",
   "nbconvert_exporter": "python",
   "pygments_lexer": "ipython3",
   "version": "3.10.16"
  }
 },
 "nbformat": 4,
 "nbformat_minor": 5
}
